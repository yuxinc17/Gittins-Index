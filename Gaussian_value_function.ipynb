{
 "cells": [
  {
   "cell_type": "code",
   "execution_count": 4,
   "metadata": {},
   "outputs": [],
   "source": [
    "import matplotlib\n",
    "matplotlib.rcParams['text.usetex'] = True\n",
    "import matplotlib.pyplot as plt\n",
    "import math\n",
    "import numpy as np\n",
    "import os\n",
    "from scipy.interpolate import interp1d\n",
    "from scipy.optimize import fsolve\n",
    "from scipy.stats import norm\n",
    "# from tqdm import tqdm\n",
    "from tqdm import tqdm_notebook as tqdm"
   ]
  },
  {
   "cell_type": "code",
   "execution_count": 5,
   "metadata": {},
   "outputs": [],
   "source": [
    "class GittinsIndex:\n",
    "    def __init__(self, Sigma, n, N = 20, gamma = 0.9, xi = 3, delta = 0.02):\n",
    "        self.Sigma = Sigma\n",
    "        self.n = n\n",
    "        self.mu = self.Sigma / self.n\n",
    "        self.N = N\n",
    "        self.gamma = gamma\n",
    "        self.xi = xi\n",
    "        self.delta = delta\n",
    "    \n",
    "    def valueFunction(self, Lambda = 0):\n",
    "        mid = math.ceil(self.xi * np.sqrt(1 / self.n) / self.delta)\n",
    "        number_mu = mid * 2 + 1\n",
    "        mu_plus = np.linspace(self.mu - mid * self.delta, self.mu + mid * self.delta, num = number_mu) \n",
    "        \n",
    "        lo = mu_plus - self.delta / 2\n",
    "        hi = mu_plus + self.delta / 2\n",
    "\n",
    "        value_vec_prev = np.zeros(number_mu)\n",
    "        value_vec_curr = np.zeros(number_mu)\n",
    "        \n",
    "        for i in range(number_mu):\n",
    "            value_vec_prev[i] = max(mu_plus[i] - Lambda, 0) / (1 - self.gamma) # without discount\n",
    "\n",
    "        for t in reversed(range(1, self.N)):  # from N - 1 to 1\n",
    "            t_n = t + self.n\n",
    "            s = np.sqrt(1 / t_n + 1)\n",
    "            y_hi, y_lo = hi * (t_n + 1), lo * (t_n + 1)\n",
    "    \n",
    "            for j in reversed(range(number_mu)):\n",
    "                yhi = y_hi - mu_plus[j] * t_n\n",
    "                ylo = y_lo - mu_plus[j] * t_n\n",
    "                p = norm.cdf(yhi, loc = mu_plus[j], scale = s) - norm.cdf(ylo, loc = mu_plus[j], scale = s)\n",
    "\n",
    "                risk_reward = mu_plus[j] + self.gamma * (norm.cdf(ylo[0], loc = mu_plus[j], scale = s) * value_vec_prev[0] +\n",
    "                              (1 - norm.cdf(yhi[-1], loc = mu_plus[j], scale = s)) * value_vec_prev[-1] +\n",
    "                              np.dot(p, value_vec_prev))\n",
    "                \n",
    "                if t == 0 and j == mid:\n",
    "                    return risk_reward - Lambda\n",
    "                \n",
    "                if risk_reward > Lambda: \n",
    "                    value_vec_curr[j] = risk_reward - Lambda  # discount factor already computed for every iter\n",
    "                else:\n",
    "                    value_vec_curr[:j + 1] = 0\n",
    "                    break\n",
    "                \n",
    "            value_vec_prev = value_vec_curr.copy()\n",
    "\n",
    "            \n",
    "        # time 0\n",
    "        s = np.sqrt(1 / self.n + 1)\n",
    "\n",
    "        \n",
    "        \n",
    "        y_hi, y_lo = hi * (self.n + 1), lo * (self.n + 1)\n",
    "        yhi, ylo = y_hi - mu_plus[mid] * self.n, y_lo - mu_plus[mid] * self.n\n",
    "        \n",
    "\n",
    "        p = norm.cdf(yhi, loc = mu_plus[mid], scale = s) - norm.cdf(ylo, loc = mu_plus[mid], scale = s)\n",
    "        \n",
    "        risk_reward = (mu_plus[mid] + self.gamma * (norm.cdf(ylo[0], loc = mu_plus[mid], scale = s) * value_vec_prev[0] +\n",
    "                      (1 - norm.cdf(yhi[-1], loc = mu_plus[mid], scale = s)) * value_vec_prev[-1] +\n",
    "                      np.dot(p, value_vec_prev)))\n",
    "\n",
    "        return risk_reward - Lambda  # risk - safe reward without taking max(V, 0)"
   ]
  },
  {
   "cell_type": "code",
   "execution_count": 6,
   "metadata": {},
   "outputs": [
    {
     "data": {
      "application/vnd.jupyter.widget-view+json": {
       "model_id": "fe66d315e3ab4152b2075237897da814",
       "version_major": 2,
       "version_minor": 0
      },
      "text/plain": [
       "HBox(children=(IntProgress(value=0, max=301), HTML(value='')))"
      ]
     },
     "metadata": {},
     "output_type": "display_data"
    },
    {
     "name": "stdout",
     "output_type": "stream",
     "text": [
      "\n"
     ]
    }
   ],
   "source": [
    "sigma_range = np.linspace(-3, 3, num = 301)\n",
    "v1 = []\n",
    "for sig in tqdm(sigma_range):\n",
    "    v1.append(GittinsIndex(Sigma = sig, n = 1, gamma = 0.9, xi = 3, delta = 0.02).valueFunction(Lambda = 0))"
   ]
  },
  {
   "cell_type": "code",
   "execution_count": 6,
   "metadata": {},
   "outputs": [
    {
     "data": {
      "image/png": "[encoded data removed]",
      "text/plain": [
       "<Figure size 720x432 with 1 Axes>"
      ]
     },
     "metadata": {
      "needs_background": "light"
     },
     "output_type": "display_data"
    }
   ],
   "source": [
    "fig = plt.figure(figsize=(10,6))\n",
    "plt.rc('font', size=14)\n",
    "plt.scatter(np.linspace(-3, 3, num = 301), v1)\n",
    "plt.xlabel(r\"$\\Sigma$\", size=16)\n",
    "plt.ylabel(\"V\", size=16)\n",
    "plt.title(r\"$V(\\Sigma, n = 1, \\gamma = 0.9)$\", fontsize = 20)\n",
    "plt.grid()\n",
    "plt.show()"
   ]
  },
  {
   "cell_type": "code",
   "execution_count": 7,
   "metadata": {},
   "outputs": [
    {
     "data": {
      "text/plain": [
       "array([-0.74582978])"
      ]
     },
     "execution_count": 7,
     "metadata": {},
     "output_type": "execute_result"
    }
   ],
   "source": [
    "fsolve(interp1d(np.linspace(-3, 3, num = 301), v1), 0, xtol = 1e-5)"
   ]
  },
  {
   "cell_type": "markdown",
   "metadata": {},
   "source": [
    "# translation invariance property"
   ]
  },
  {
   "cell_type": "code",
   "execution_count": 10,
   "metadata": {},
   "outputs": [
    {
     "data": {
      "application/vnd.jupyter.widget-view+json": {
       "model_id": "f2224d6d4ebb44dc9714c1b89a633925",
       "version_major": 2,
       "version_minor": 0
      },
      "text/plain": [
       "HBox(children=(IntProgress(value=0, max=61), HTML(value='')))"
      ]
     },
     "metadata": {},
     "output_type": "display_data"
    },
    {
     "name": "stdout",
     "output_type": "stream",
     "text": [
      "\n"
     ]
    }
   ],
   "source": [
    "sigma_range = np.linspace(-3, 3, num = 61)\n",
    "value_function_lambda0 = []\n",
    "for sig in tqdm(sigma_range):\n",
    "    value_function_lambda0.append(GittinsIndex(Sigma = sig, n = 1, gamma = 0.9, xi = 3, delta = 0.02).valueFunction())"
   ]
  },
  {
   "cell_type": "code",
   "execution_count": 14,
   "metadata": {
    "scrolled": true
   },
   "outputs": [
    {
     "data": {
      "application/vnd.jupyter.widget-view+json": {
       "model_id": "4794197ec4ca49178392d4aab383c665",
       "version_major": 2,
       "version_minor": 0
      },
      "text/plain": [
       "HBox(children=(IntProgress(value=0, max=61), HTML(value='')))"
      ]
     },
     "metadata": {},
     "output_type": "display_data"
    }
   ],
   "source": [
    "sigma_range = np.linspace(-2, 4, num = 61)\n",
    "value_function_lambda1 = []\n",
    "for sig in tqdm(sigma_range):\n",
    "    value_function_lambda1.append(GittinsIndex(Sigma = sig, n = 1, gamma = 0.9, xi = 3, delta = 0.02).valueFunction(Lambda = 1))"
   ]
  },
  {
   "cell_type": "code",
   "execution_count": 15,
   "metadata": {},
   "outputs": [
    {
     "data": {
      "application/vnd.jupyter.widget-view+json": {
       "model_id": "b8182ae7341543b49280cc6f21f6ded9",
       "version_major": 2,
       "version_minor": 0
      },
      "text/plain": [
       "HBox(children=(IntProgress(value=0, max=61), HTML(value='')))"
      ]
     },
     "metadata": {},
     "output_type": "display_data"
    }
   ],
   "source": [
    "sigma_range = np.linspace(-2.5, 3.5, num = 61)\n",
    "value_function_lambda05 = []\n",
    "for sig in tqdm(sigma_range):\n",
    "    value_function_lambda05.append(GittinsIndex(Sigma = sig, n = 1, gamma = 0.9, xi = 3, delta = 0.02).valueFunction(Lambda = 0.5))"
   ]
  },
  {
   "cell_type": "code",
   "execution_count": 16,
   "metadata": {
    "scrolled": false
   },
   "outputs": [
    {
     "data": {
      "image/png": "[encoded data removed]",
      "text/plain": [
       "<Figure size 720x432 with 1 Axes>"
      ]
     },
     "metadata": {
      "needs_background": "light"
     },
     "output_type": "display_data"
    }
   ],
   "source": [
    "fig = plt.figure(figsize=(10,6))\n",
    "plt.rc('font', size=14)\n",
    "plt.scatter(np.linspace(-3, 3, num = 61), value_function_lambda0, label = r\"$\\lambda = 0$\")\n",
    "plt.scatter(np.linspace(-2.5, 3.5, num = 61), value_function_lambda05, label = r\"$\\lambda = 0.5$\")\n",
    "plt.scatter(np.linspace(-2, 4, num = 61), value_function_lambda1, label = r\"$\\lambda = 1$\")\n",
    "plt.xlabel(r\"$\\Sigma$\", fontsize = 16)\n",
    "plt.ylabel(\"V\", fontsize = 16)\n",
    "plt.title(r\"$V(\\Sigma, n = 1, \\gamma = 0.9)$\", fontsize = 20)\n",
    "plt.grid()\n",
    "plt.legend()\n",
    "plt.show()"
   ]
  },
  {
   "cell_type": "code",
   "execution_count": 17,
   "metadata": {},
   "outputs": [
    {
     "data": {
      "image/png": "[encoded data removed]",
      "text/plain": [
       "<Figure size 720x432 with 1 Axes>"
      ]
     },
     "metadata": {
      "needs_background": "light"
     },
     "output_type": "display_data"
    }
   ],
   "source": [
    "plt.figure(figsize=(10,6))\n",
    "plt.rc('font', size=14)\n",
    "plt.scatter(np.linspace(-3, 3, num = 61), value_function_lambda0, label = r\"$\\lambda = 0$\")\n",
    "plt.scatter(np.linspace(-3, 3, num = 61), value_function_lambda05, label = r\"$\\lambda = 0.5$\")\n",
    "plt.scatter(np.linspace(-3, 3, num = 61), value_function_lambda1, label = r\"$\\lambda = 1$\")\n",
    "plt.xlabel(\"Sigma\")\n",
    "plt.ylabel(\"V\")\n",
    "plt.title(r\"$V(\\Sigma, n = 1, \\gamma = 0.9)$\", fontsize = 20)\n",
    "plt.grid()\n",
    "plt.legend()\n",
    "plt.show()"
   ]
  },
  {
   "cell_type": "code",
   "execution_count": null,
   "metadata": {},
   "outputs": [],
   "source": []
  }
 ],
 "metadata": {
  "kernelspec": {
   "display_name": "Python 3",
   "language": "python",
   "name": "python3"
  },
  "language_info": {
   "codemirror_mode": {
    "name": "ipython",
    "version": 3
   },
   "file_extension": ".py",
   "mimetype": "text/x-python",
   "name": "python",
   "nbconvert_exporter": "python",
   "pygments_lexer": "ipython3",
   "version": "3.7.3"
  }
 },
 "nbformat": 4,
 "nbformat_minor": 2
}
