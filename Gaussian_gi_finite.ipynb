{
 "cells": [
  {
   "cell_type": "code",
   "execution_count": 1,
   "metadata": {},
   "outputs": [],
   "source": [
    "import matplotlib\n",
    "matplotlib.rcParams['text.usetex'] = True\n",
    "import matplotlib.pyplot as plt\n",
    "import math\n",
    "import numpy as np\n",
    "import os\n",
    "import pickle\n",
    "from scipy.interpolate import interp1d\n",
    "from scipy.optimize import fsolve\n",
    "from scipy.stats import norm\n",
    "# from tqdm import tqdm\n",
    "from tqdm import tqdm_notebook as tqdm"
   ]
  },
  {
   "cell_type": "code",
   "execution_count": 11,
   "metadata": {},
   "outputs": [],
   "source": [
    "class GittinsIndex:\n",
    "    def __init__(self, Sigma, n, N = 20, xi = 3, delta = 0.02):\n",
    "        self.Sigma = Sigma\n",
    "        self.n = n\n",
    "        self.mu = self.Sigma / self.n\n",
    "        self.N = N\n",
    "        self.xi = xi\n",
    "        self.delta = delta\n",
    "    \n",
    "    \n",
    "    def valueFunction(self, Lambda = 0):\n",
    "        mid = math.ceil(self.xi * np.sqrt(1 / self.n) / self.delta)\n",
    "        number_mu = mid * 2 + 1\n",
    "        mu_plus = np.linspace(self.mu - mid * delta, self.mu + mid * delta, num = number_mu) \n",
    "    \n",
    "        v = [[0] * number_mu for _ in range(self.N + 1)]\n",
    "        \n",
    "        lo = mu_plus - delta / 2\n",
    "        hi = mu_plus + delta / 2\n",
    "\n",
    "        value_vec_prev = np.zeros(number_mu)\n",
    "        value_vec_curr = np.zeros(number_mu)\n",
    "        \n",
    "        for i in range(number_mu):\n",
    "            v[-1][i] = mu_plus[i] - Lambda\n",
    "            value_vec_prev[i] = max(mu_plus[i] - Lambda, 0)  # without discount\n",
    "            \n",
    "\n",
    "        for t in tqdm(reversed(range(0, self.N))):  # from N - 1 to 0\n",
    "            t_n = t + self.n\n",
    "            s = np.sqrt(1 / t_n + 1)   \n",
    "            y_hi, y_lo = hi * (t_n + 1), lo * (t_n + 1)\n",
    "    \n",
    "            for j in reversed(range(number_mu)):\n",
    "                yhi = y_hi - mu_plus[j] * t_n\n",
    "                ylo = y_lo - mu_plus[j] * t_n\n",
    "                p = norm.cdf(yhi, loc = mu_plus[j], scale = s) - norm.cdf(ylo, loc = mu_plus[j], scale = s)\n",
    "\n",
    "                risk_reward = mu_plus[j] + (norm.cdf(ylo[0], loc = mu_plus[j], scale = s) * value_vec_prev[0] +\n",
    "                              (1 - norm.cdf(yhi[-1], loc = mu_plus[j], scale = s)) * value_vec_prev[-1] +\n",
    "                              np.dot(p, value_vec_prev))\n",
    "\n",
    "                v[t][j] = risk_reward - Lambda\n",
    "                \n",
    "                if risk_reward > Lambda: \n",
    "                    value_vec_curr[j] = risk_reward - Lambda  # discount factor already computed for every iter\n",
    "                else:\n",
    "                    value_vec_curr[j] = 0\n",
    "                \n",
    "            value_vec_prev = value_vec_curr.copy()\n",
    "            \n",
    "        return v"
   ]
  },
  {
   "cell_type": "code",
   "execution_count": 12,
   "metadata": {},
   "outputs": [],
   "source": [
    "class MultiArmedBandits:\n",
    "    def __init__(self, k = 10, epsilon = 0, initial = 0, true_expected_reward = 0, step_size = None, ucb = None, \n",
    "                 gradient = None, baseline = None, thompson = None, bayes_ucb = None, gittins = None, \n",
    "                 num_steps = 1000, num_runs = 2000):\n",
    "        self.k = k\n",
    "        self.epsilon = epsilon\n",
    "        self.initial = initial\n",
    "        self.initial_mu = true_expected_reward\n",
    "        self.step_size = step_size\n",
    "        self.ucb_c = ucb # degree of exploration\n",
    "        self.gradient = gradient # step_size for gradient bandit algorithm\n",
    "        self.baseline = baseline\n",
    "        self.thompson = thompson\n",
    "        self.bayes_ucb_c = bayes_ucb\n",
    "        self.gi_values = gittins\n",
    "        self.num_steps = num_steps\n",
    "        self.num_runs = num_runs\n",
    "        \n",
    "        \n",
    "    def new_bandit(self):\n",
    "        self.q = np.zeros(self.k) + self.initial\n",
    "        self.action_count = np.zeros(self.k).astype(int)\n",
    "        self.mu = self.s1 * np.random.randn(self.k) + self.initial_mu  # s1: sd between arms\n",
    "        self.action_optimal = np.argmax(self.mu)\n",
    "        self.reward_episode = np.zeros(self.num_steps)\n",
    "        self.action_episode = np.zeros(self.num_steps)\n",
    "        if self.gradient:\n",
    "            self.h = np.zeros(self.k)\n",
    "            self.prev_rewards_bar = 0\n",
    "            self.rewards_bar = 0\n",
    "        if self.thompson or self.bayes_ucb_c:  # flat prior\n",
    "            self.estimated_mu = np.zeros(self.k)\n",
    "            self.estimated_var = np.zeros(self.k) + 1\n",
    "        if self.gi_values != None:\n",
    "            self.gi = np.zeros(self.k)\n",
    "            self.idx = np.zeros(self.k).astype(int)\n",
    "\n",
    "            \n",
    "        \n",
    "    # default: 1000 steps make up one episode/run    \n",
    "    def episode(self):\n",
    "        for step in range(self.num_steps):\n",
    "            \n",
    "            # choose action\n",
    "            if np.random.random() < self.epsilon: # choose randomly\n",
    "                action = np.random.randint(1,self.k)\n",
    "            elif self.ucb_c:\n",
    "                if min(self.action_count) == 0:\n",
    "                    action = np.argmin(self.action_count)\n",
    "                else:\n",
    "                    ucb_action = self.q + self.ucb_c * np.sqrt(np.divide(np.log(step + 1), self.action_count))\n",
    "                    action = np.argmax(ucb_action)\n",
    "            elif self.gradient: # gradient bandit: only consider numerical preference\n",
    "                h_exp = np.exp(self.h)\n",
    "                pi = h_exp / np.sum(h_exp)\n",
    "                action = np.random.choice(np.arange(self.k), p = pi)\n",
    "            elif self.thompson:\n",
    "                samples = np.random.normal(self.estimated_mu, np.sqrt(self.estimated_var))\n",
    "                action = np.random.choice(np.where(samples == max(samples))[0])\n",
    "            elif self.bayes_ucb_c:\n",
    "                self.q = norm.ppf(1 - 1 / ((step + 1) * pow(np.log(self.num_steps), self.bayes_ucb_c)), \n",
    "                                  self.estimated_mu, np.sqrt(self.estimated_var))\n",
    "                action = np.random.choice(np.where(self.q == max(self.q))[0])\n",
    "            elif self.gi_values != None:\n",
    "                for i in range(self.k):\n",
    "                    self.idx[i] = self.num_steps - 1 - step + self.action_count[i]\n",
    "                    self.gi[i] = self.q[i] + self.gi_values[self.idx[i]][self.action_count[i]]\n",
    "                action = np.random.choice(np.where(self.gi == max(self.gi))[0])\n",
    "            else:\n",
    "                action = np.argmax(self.q)  \n",
    "            \n",
    "            \n",
    "            # update action\n",
    "            self.action_count[action] += 1\n",
    "            if action == self.action_optimal:\n",
    "                self.action_episode[step] = 1\n",
    "\n",
    "                \n",
    "            # receive rewards\n",
    "            reward = self.s2 * np.random.randn() + self.mu[action]  # s2: sd within a single arm\n",
    "            self.reward_episode[step] = reward\n",
    "            \n",
    "            \n",
    "            # update parameters\n",
    "            if self.step_size:\n",
    "                self.q[action] += self.step_size * (reward - self.q[action])  # constant step-size\n",
    "            elif self.gradient:\n",
    "                h_action = np.zeros(self.k)\n",
    "                h_action[action] = 1\n",
    "                if self.baseline: # if no baseline, q is constantly 0\n",
    "                    self.rewards_bar += (reward - self.rewards_bar) / (step + 1) # average of all rewards\n",
    "                self.h += self.gradient * (reward - self.rewards_bar) * (h_action - pi) # update h, eq. 2.12 stochastic gradient ascent              \n",
    "            elif self.thompson or self.bayes_ucb_c:\n",
    "                self.estimated_mu[action] += (reward - self.estimated_mu[action]) / (self.action_count[action] + 1)\n",
    "                self.estimated_var[action] = 1 / (self.action_count[action] + 1)\n",
    "            elif self.gi_values != None or self.bayes_ucb_c:\n",
    "                self.q[action] += (reward - self.q[action]) / (self.action_count[action] + 1)  # sample average with N(0,1) prior\n",
    "            else: \n",
    "                self.q[action] += (reward - self.q[action]) / self.action_count[action]  # sample average\n",
    "        return self.reward_episode, self.action_episode\n",
    "    \n",
    "    # default: average of 2000 runs\n",
    "    def simulate(self):\n",
    "        average_reward = np.zeros((self.num_runs, self.num_steps))\n",
    "        action_percentage = np.zeros((self.num_runs, self.num_steps))\n",
    "        for run in tqdm(range(self.num_runs)):\n",
    "            self.new_bandit()\n",
    "            average_reward[run], action_percentage[run] = self.episode()\n",
    "        return [np.mean(average_reward, axis = 0), np.mean(action_percentage, axis = 0), np.mean(average_reward, axis = 1)]"
   ]
  },
  {
   "cell_type": "markdown",
   "metadata": {},
   "source": [
    "## horizon = n = 32, consider n + h = 0, ... , 32"
   ]
  },
  {
   "cell_type": "code",
   "execution_count": 91,
   "metadata": {
    "scrolled": true
   },
   "outputs": [
    {
     "data": {
      "application/vnd.jupyter.widget-view+json": {
       "model_id": "490982f62a034a72aa39c9470d028046",
       "version_major": 2,
       "version_minor": 0
      },
      "text/plain": [
       "HBox(children=(IntProgress(value=0, max=32), HTML(value='')))"
      ]
     },
     "metadata": {},
     "output_type": "display_data"
    },
    {
     "data": {
      "application/vnd.jupyter.widget-view+json": {
       "model_id": "d6c4b11c88f64bdfbf03d00db386b4d0",
       "version_major": 2,
       "version_minor": 0
      },
      "text/plain": [
       "HBox(children=(IntProgress(value=1, bar_style='info', max=1), HTML(value='')))"
      ]
     },
     "metadata": {},
     "output_type": "display_data"
    },
    {
     "data": {
      "application/vnd.jupyter.widget-view+json": {
       "model_id": "e05cf5401e9c4629b3bc8f456c8e484b",
       "version_major": 2,
       "version_minor": 0
      },
      "text/plain": [
       "HBox(children=(IntProgress(value=1, bar_style='info', max=1), HTML(value='')))"
      ]
     },
     "metadata": {},
     "output_type": "display_data"
    },
    {
     "data": {
      "application/vnd.jupyter.widget-view+json": {
       "model_id": "5e3285a89e7745828ecc44ff02748a7f",
       "version_major": 2,
       "version_minor": 0
      },
      "text/plain": [
       "HBox(children=(IntProgress(value=1, bar_style='info', max=1), HTML(value='')))"
      ]
     },
     "metadata": {},
     "output_type": "display_data"
    },
    {
     "data": {
      "application/vnd.jupyter.widget-view+json": {
       "model_id": "550f2293a0304c3e994796771fb37a78",
       "version_major": 2,
       "version_minor": 0
      },
      "text/plain": [
       "HBox(children=(IntProgress(value=1, bar_style='info', max=1), HTML(value='')))"
      ]
     },
     "metadata": {},
     "output_type": "display_data"
    },
    {
     "data": {
      "application/vnd.jupyter.widget-view+json": {
       "model_id": "3fa4f5e8f0ff453bb6c7a3b521309457",
       "version_major": 2,
       "version_minor": 0
      },
      "text/plain": [
       "HBox(children=(IntProgress(value=1, bar_style='info', max=1), HTML(value='')))"
      ]
     },
     "metadata": {},
     "output_type": "display_data"
    },
    {
     "data": {
      "application/vnd.jupyter.widget-view+json": {
       "model_id": "f9248c285fdb4240b85d3e57c36e6f91",
       "version_major": 2,
       "version_minor": 0
      },
      "text/plain": [
       "HBox(children=(IntProgress(value=1, bar_style='info', max=1), HTML(value='')))"
      ]
     },
     "metadata": {},
     "output_type": "display_data"
    },
    {
     "data": {
      "application/vnd.jupyter.widget-view+json": {
       "model_id": "778ba1efb7fd478eb07576190fdd77a9",
       "version_major": 2,
       "version_minor": 0
      },
      "text/plain": [
       "HBox(children=(IntProgress(value=1, bar_style='info', max=1), HTML(value='')))"
      ]
     },
     "metadata": {},
     "output_type": "display_data"
    },
    {
     "data": {
      "application/vnd.jupyter.widget-view+json": {
       "model_id": "d87e3d507b174f9e9f94a6e7edde2a16",
       "version_major": 2,
       "version_minor": 0
      },
      "text/plain": [
       "HBox(children=(IntProgress(value=1, bar_style='info', max=1), HTML(value='')))"
      ]
     },
     "metadata": {},
     "output_type": "display_data"
    },
    {
     "data": {
      "application/vnd.jupyter.widget-view+json": {
       "model_id": "c6e3bded9dd94593838ae1b289da9a30",
       "version_major": 2,
       "version_minor": 0
      },
      "text/plain": [
       "HBox(children=(IntProgress(value=1, bar_style='info', max=1), HTML(value='')))"
      ]
     },
     "metadata": {},
     "output_type": "display_data"
    },
    {
     "data": {
      "application/vnd.jupyter.widget-view+json": {
       "model_id": "0569b72e0286472fb4b7ae36b5c37f07",
       "version_major": 2,
       "version_minor": 0
      },
      "text/plain": [
       "HBox(children=(IntProgress(value=1, bar_style='info', max=1), HTML(value='')))"
      ]
     },
     "metadata": {},
     "output_type": "display_data"
    },
    {
     "data": {
      "application/vnd.jupyter.widget-view+json": {
       "model_id": "9c6d81a04cde48fc9ab29ffe08ec18c7",
       "version_major": 2,
       "version_minor": 0
      },
      "text/plain": [
       "HBox(children=(IntProgress(value=1, bar_style='info', max=1), HTML(value='')))"
      ]
     },
     "metadata": {},
     "output_type": "display_data"
    },
    {
     "data": {
      "application/vnd.jupyter.widget-view+json": {
       "model_id": "5e1e4be534864e88b1a82ce163db9d24",
       "version_major": 2,
       "version_minor": 0
      },
      "text/plain": [
       "HBox(children=(IntProgress(value=1, bar_style='info', max=1), HTML(value='')))"
      ]
     },
     "metadata": {},
     "output_type": "display_data"
    },
    {
     "data": {
      "application/vnd.jupyter.widget-view+json": {
       "model_id": "208f089a86ec46479fbd537c80db291f",
       "version_major": 2,
       "version_minor": 0
      },
      "text/plain": [
       "HBox(children=(IntProgress(value=1, bar_style='info', max=1), HTML(value='')))"
      ]
     },
     "metadata": {},
     "output_type": "display_data"
    },
    {
     "data": {
      "application/vnd.jupyter.widget-view+json": {
       "model_id": "f13b913677674ee08d1082ca86956360",
       "version_major": 2,
       "version_minor": 0
      },
      "text/plain": [
       "HBox(children=(IntProgress(value=1, bar_style='info', max=1), HTML(value='')))"
      ]
     },
     "metadata": {},
     "output_type": "display_data"
    },
    {
     "data": {
      "application/vnd.jupyter.widget-view+json": {
       "model_id": "5f5e187208fb4daaad706878f7d76664",
       "version_major": 2,
       "version_minor": 0
      },
      "text/plain": [
       "HBox(children=(IntProgress(value=1, bar_style='info', max=1), HTML(value='')))"
      ]
     },
     "metadata": {},
     "output_type": "display_data"
    },
    {
     "data": {
      "application/vnd.jupyter.widget-view+json": {
       "model_id": "779601035622484c92febea24eb9e213",
       "version_major": 2,
       "version_minor": 0
      },
      "text/plain": [
       "HBox(children=(IntProgress(value=1, bar_style='info', max=1), HTML(value='')))"
      ]
     },
     "metadata": {},
     "output_type": "display_data"
    },
    {
     "data": {
      "application/vnd.jupyter.widget-view+json": {
       "model_id": "c90dba96d1494517b0faf6cb4ab74f4c",
       "version_major": 2,
       "version_minor": 0
      },
      "text/plain": [
       "HBox(children=(IntProgress(value=1, bar_style='info', max=1), HTML(value='')))"
      ]
     },
     "metadata": {},
     "output_type": "display_data"
    },
    {
     "data": {
      "application/vnd.jupyter.widget-view+json": {
       "model_id": "b68a75a4b2e548c5a568388870c4711e",
       "version_major": 2,
       "version_minor": 0
      },
      "text/plain": [
       "HBox(children=(IntProgress(value=1, bar_style='info', max=1), HTML(value='')))"
      ]
     },
     "metadata": {},
     "output_type": "display_data"
    },
    {
     "data": {
      "application/vnd.jupyter.widget-view+json": {
       "model_id": "476ee7de0e514e0dbf4852d1883657be",
       "version_major": 2,
       "version_minor": 0
      },
      "text/plain": [
       "HBox(children=(IntProgress(value=1, bar_style='info', max=1), HTML(value='')))"
      ]
     },
     "metadata": {},
     "output_type": "display_data"
    },
    {
     "data": {
      "application/vnd.jupyter.widget-view+json": {
       "model_id": "f57e89c7e04e4806a81d7a60fe841cae",
       "version_major": 2,
       "version_minor": 0
      },
      "text/plain": [
       "HBox(children=(IntProgress(value=1, bar_style='info', max=1), HTML(value='')))"
      ]
     },
     "metadata": {},
     "output_type": "display_data"
    },
    {
     "data": {
      "application/vnd.jupyter.widget-view+json": {
       "model_id": "522ce419da094b05adf151423f31308f",
       "version_major": 2,
       "version_minor": 0
      },
      "text/plain": [
       "HBox(children=(IntProgress(value=1, bar_style='info', max=1), HTML(value='')))"
      ]
     },
     "metadata": {},
     "output_type": "display_data"
    },
    {
     "data": {
      "application/vnd.jupyter.widget-view+json": {
       "model_id": "0c9ef43fb0d54380810ae7dabb78db61",
       "version_major": 2,
       "version_minor": 0
      },
      "text/plain": [
       "HBox(children=(IntProgress(value=1, bar_style='info', max=1), HTML(value='')))"
      ]
     },
     "metadata": {},
     "output_type": "display_data"
    },
    {
     "data": {
      "application/vnd.jupyter.widget-view+json": {
       "model_id": "4b132e1fd0a74ba6a41160890de0e371",
       "version_major": 2,
       "version_minor": 0
      },
      "text/plain": [
       "HBox(children=(IntProgress(value=1, bar_style='info', max=1), HTML(value='')))"
      ]
     },
     "metadata": {},
     "output_type": "display_data"
    },
    {
     "data": {
      "application/vnd.jupyter.widget-view+json": {
       "model_id": "7180789990ca4154a1de14f2e2ac2016",
       "version_major": 2,
       "version_minor": 0
      },
      "text/plain": [
       "HBox(children=(IntProgress(value=1, bar_style='info', max=1), HTML(value='')))"
      ]
     },
     "metadata": {},
     "output_type": "display_data"
    },
    {
     "data": {
      "application/vnd.jupyter.widget-view+json": {
       "model_id": "476b225432974af5b4b4bed3027798d9",
       "version_major": 2,
       "version_minor": 0
      },
      "text/plain": [
       "HBox(children=(IntProgress(value=1, bar_style='info', max=1), HTML(value='')))"
      ]
     },
     "metadata": {},
     "output_type": "display_data"
    },
    {
     "data": {
      "application/vnd.jupyter.widget-view+json": {
       "model_id": "ac282dfdf36747e2b52c7faea0a9a5cb",
       "version_major": 2,
       "version_minor": 0
      },
      "text/plain": [
       "HBox(children=(IntProgress(value=1, bar_style='info', max=1), HTML(value='')))"
      ]
     },
     "metadata": {},
     "output_type": "display_data"
    },
    {
     "data": {
      "application/vnd.jupyter.widget-view+json": {
       "model_id": "a391a847d8dc47eabd7cd835ffcac35f",
       "version_major": 2,
       "version_minor": 0
      },
      "text/plain": [
       "HBox(children=(IntProgress(value=1, bar_style='info', max=1), HTML(value='')))"
      ]
     },
     "metadata": {},
     "output_type": "display_data"
    },
    {
     "data": {
      "application/vnd.jupyter.widget-view+json": {
       "model_id": "70d985fa2bd1427298cd03da3fb6240c",
       "version_major": 2,
       "version_minor": 0
      },
      "text/plain": [
       "HBox(children=(IntProgress(value=1, bar_style='info', max=1), HTML(value='')))"
      ]
     },
     "metadata": {},
     "output_type": "display_data"
    },
    {
     "data": {
      "application/vnd.jupyter.widget-view+json": {
       "model_id": "68f5335eea5f466f963648c2b7ce1d11",
       "version_major": 2,
       "version_minor": 0
      },
      "text/plain": [
       "HBox(children=(IntProgress(value=1, bar_style='info', max=1), HTML(value='')))"
      ]
     },
     "metadata": {},
     "output_type": "display_data"
    },
    {
     "data": {
      "application/vnd.jupyter.widget-view+json": {
       "model_id": "c3ef3042faee4bbdae0de31809acb146",
       "version_major": 2,
       "version_minor": 0
      },
      "text/plain": [
       "HBox(children=(IntProgress(value=1, bar_style='info', max=1), HTML(value='')))"
      ]
     },
     "metadata": {},
     "output_type": "display_data"
    },
    {
     "data": {
      "application/vnd.jupyter.widget-view+json": {
       "model_id": "4736bdfa363442efb98da64126ae4611",
       "version_major": 2,
       "version_minor": 0
      },
      "text/plain": [
       "HBox(children=(IntProgress(value=1, bar_style='info', max=1), HTML(value='')))"
      ]
     },
     "metadata": {},
     "output_type": "display_data"
    },
    {
     "data": {
      "application/vnd.jupyter.widget-view+json": {
       "model_id": "176c4c8d7f4b425e9b1268139bd3b5a0",
       "version_major": 2,
       "version_minor": 0
      },
      "text/plain": [
       "HBox(children=(IntProgress(value=1, bar_style='info', max=1), HTML(value='')))"
      ]
     },
     "metadata": {},
     "output_type": "display_data"
    }
   ],
   "source": [
    "gi_32_horizon = []\n",
    "for N in tqdm(range(32)):  # remaining horizon h = N - n\n",
    "    n = 1\n",
    "    xi = 6\n",
    "    delta = 0.001\n",
    "    v = GittinsIndex(Sigma = 0, n = n, N = N, xi = xi, delta = delta).valueFunction(Lambda = 0)\n",
    "    \n",
    "    a = int(xi / delta / 2)\n",
    "    roots = np.zeros(N + 1)\n",
    "    for j in range(N):\n",
    "        roots[j] = -fsolve(interp1d(np.linspace(-xi, xi, num = int(xi / delta) * 2 + 1)[a : -a], v[j][a : -a]), 0)\n",
    "        \n",
    "    gi_32_horizon.append(roots)"
   ]
  },
  {
   "cell_type": "code",
   "execution_count": 97,
   "metadata": {},
   "outputs": [
    {
     "data": {
      "text/plain": [
       "[array([0.]),\n",
       " array([0.19518256, 0.        ]),\n",
       " array([0.32190691, 0.11268874, 0.        ]),\n",
       " array([0.4163582, 0.1892228, 0.079683 , 0.       ]),\n",
       " array([0.49180102, 0.2478516 , 0.13515649, 0.06172221, 0.        ]),\n",
       " array([0.55465576, 0.29557818, 0.17837013, 0.10537162, 0.05039603,\n",
       "        0.        ]),\n",
       " array([0.60853828, 0.33590631, 0.21398337, 0.13976344, 0.08642462,\n",
       "        0.04259247, 0.        ]),\n",
       " array([0.65569354, 0.37086172, 0.24436459, 0.16835547, 0.11504704,\n",
       "        0.07328532, 0.03688605, 0.        ]),\n",
       " array([0.69761338, 0.40172712, 0.27089976, 0.19291733, 0.13899945,\n",
       "        0.09782278, 0.0636295 , 0.03253062, 0.        ]),\n",
       " array([0.73534097, 0.42937008, 0.29447907, 0.21449403, 0.1596869 ,\n",
       "        0.11846176, 0.08511456, 0.05622937, 0.0290961 , 0.        ]),\n",
       " array([0.7696348 , 0.45440526, 0.31570865, 0.2337586 , 0.17794075,\n",
       "        0.13636341, 0.10326105, 0.07534524, 0.05037609, 0.0263186 ,\n",
       "        0.        ]),\n",
       " array([0.80106394, 0.47728539, 0.33502331, 0.25117537, 0.19430184,\n",
       "        0.15221663, 0.11905497, 0.09154438, 0.0675966 , 0.04562868,\n",
       "        0.02402522, 0.        ]),\n",
       " array([0.83006689, 0.49835397, 0.35274591, 0.26707757, 0.2091422 ,\n",
       "        0.16647067, 0.13308424, 0.1056846 , 0.08223078, 0.06129866,\n",
       "        0.04170092, 0.02210008, 0.        ]),\n",
       " array([0.85698801, 0.51787722, 0.36912202, 0.28171477, 0.22273172,\n",
       "        0.17943535, 0.14573115, 0.1182763 , 0.09503613, 0.07464682,\n",
       "        0.05607763, 0.03839721, 0.020461  , 0.        ]),\n",
       " array([0.88210349, 0.53606691, 0.38434441, 0.29527726, 0.23527174,\n",
       "        0.19133568, 0.15726065, 0.12965302, 0.10646488, 0.08635201,\n",
       "        0.06834996, 0.051679  , 0.0355786 , 0.01904779, 0.        ]),\n",
       " array([0.90563768, 0.55309336, 0.39856606, 0.30791494, 0.24691743,\n",
       "        0.20234048, 0.16786471, 0.14004386, 0.11680882, 0.0968165 ,\n",
       "        0.07912983, 0.06303568, 0.04792094, 0.03314621, 0.01781779,\n",
       "        0.        ]),\n",
       " array([0.92777554, 0.56909624, 0.41191168, 0.31974908, 0.25779232,\n",
       "        0.21258102, 0.1776902 , 0.14961968, 0.12627452, 0.10630553,\n",
       "        0.08878462, 0.07302941, 0.05849269, 0.0446743 , 0.03102536,\n",
       "        0.01673702, 0.        ]),\n",
       " array([0.94867159, 0.58419142, 0.42448383, 0.33087605, 0.26799328,\n",
       "        0.2221592 , 0.18684717, 0.15850455, 0.13500862, 0.11500018,\n",
       "        0.0975513 , 0.08199135, 0.06780677, 0.05456158, 0.0418402 ,\n",
       "        0.02916032, 0.01577979, 0.        ]),\n",
       " array([0.9684559 , 0.59847593, 0.4363675 , 0.34137809, 0.27760256,\n",
       "        0.23115937, 0.19542605, 0.166798  , 0.14312613, 0.12303567,\n",
       "        0.10559565, 0.09014015, 0.07617047, 0.06328389, 0.05112686,\n",
       "        0.03934548, 0.02750689, 0.01492594, 0.        ]),\n",
       " array([0.98723899, 0.61203156, 0.44763433, 0.35132137, 0.28668509,\n",
       "        0.23964908, 0.2034978 , 0.17457816, 0.15071295, 0.13051221,\n",
       "        0.11303763, 0.09762645, 0.08378354, 0.07112486, 0.05932871,\n",
       "        0.04809962, 0.03713045, 0.02603034, 0.01416017, 0.        ]),\n",
       " array([1.00511602, 0.62492924, 0.45834537, 0.36076319, 0.29529684,\n",
       "        0.24768395, 0.21112038, 0.18190628, 0.15783727, 0.13750734,\n",
       "        0.11996995, 0.10456018, 0.09078539, 0.07827034, 0.06670985,\n",
       "        0.05584075, 0.04541306, 0.03515342, 0.0247059 , 0.01346934,\n",
       "        0.        ]),\n",
       " array([1.02216917, 0.63722939, 0.46855311, 0.36975242, 0.30348543,\n",
       "        0.25531233, 0.21834459, 0.18883597, 0.1645562 , 0.14408317,\n",
       "        0.12646322, 0.11102374, 0.09727665, 0.0848473 , 0.07344176,\n",
       "        0.0628126 , 0.05274089, 0.04300975, 0.03337651, 0.02350878,\n",
       "        0.01284222, 0.        ]),\n",
       " array([1.03846971, 0.64898407, 0.47830253, 0.37833061, 0.31129066,\n",
       "        0.2625738 , 0.22520986, 0.19540923, 0.17091487, 0.15029142,\n",
       "        0.13257312, 0.11708428, 0.10333417, 0.09095007, 0.07964387,\n",
       "        0.0691769 , 0.05934752, 0.04996777, 0.04084959, 0.03177017,\n",
       "        0.02242276, 0.01227138, 0.        ]),\n",
       " array([1.05408009, 0.66023992, 0.48763318, 0.38653395, 0.31874752,\n",
       "        0.26950286, 0.2317517 , 0.20166206, 0.17695229, 0.15617177,\n",
       "        0.13834562, 0.122792  , 0.10901721, 0.09665114, 0.0854036 ,\n",
       "        0.07504481, 0.06538345, 0.05624659, 0.04747399, 0.03889601,\n",
       "        0.0303119 , 0.02143253, 0.01174895, 0.        ]),\n",
       " array([1.06905554, 0.67103644, 0.49657932, 0.3943938 , 0.32588574,\n",
       "        0.27612858, 0.23799941, 0.20762599, 0.18270147, 0.16175982,\n",
       "        0.14381801, 0.128189  , 0.11437462, 0.10200203, 0.09078698,\n",
       "        0.08049891, 0.07095068, 0.06198449, 0.05345428, 0.04521631,\n",
       "        0.03712044, 0.02898058, 0.02052619, 0.01126925, 0.        ]),\n",
       " array([1.08344503, 0.68141003, 0.50517118, 0.40193796, 0.3327328 ,\n",
       "        0.28247831, 0.24397984, 0.21332652, 0.18818797, 0.1670838 ,\n",
       "        0.14902198, 0.13330968, 0.11944364, 0.10705044, 0.09584523,\n",
       "        0.08559998, 0.07613048, 0.067284  , 0.05892363, 0.05092595,\n",
       "        0.04316514, 0.03550211, 0.02776295, 0.01969302, 0.01082699,\n",
       "        0.        ]),\n",
       " array([1.09729148, 0.69139181, 0.51343634, 0.40919147, 0.33931085,\n",
       "        0.28857354, 0.24971563, 0.21878724, 0.19343747, 0.17217004,\n",
       "        0.15398434, 0.13818193, 0.12425608, 0.11183103, 0.10061986,\n",
       "        0.0903955 , 0.08097668, 0.07221473, 0.06397788, 0.05615305,\n",
       "        0.0486285 , 0.04129144, 0.03401662, 0.02664284, 0.01892488,\n",
       "        0.01041866, 0.        ]),\n",
       " array([1.11063379, 0.70100971, 0.52139793, 0.41617524, 0.3456405 ,\n",
       "        0.29443399, 0.25522507, 0.2240274 , 0.19846902, 0.17703876,\n",
       "        0.15872848, 0.142831  , 0.12883845, 0.1163721 , 0.10514209,\n",
       "        0.09492436, 0.08553803, 0.07683269, 0.06868494, 0.060984  ,\n",
       "        0.05363242, 0.04652964, 0.03957551, 0.03265319, 0.02561006,\n",
       "        0.01821437, 0.01003893, 0.        ]),\n",
       " array([1.12350681, 0.71028981, 0.52907727, 0.42290871, 0.35173984,\n",
       "        0.30007731, 0.26052704, 0.22906569, 0.20330126, 0.18170969,\n",
       "        0.16327225, 0.14727794, 0.13321368, 0.1206988 , 0.1094424 ,\n",
       "        0.09921791, 0.08984581, 0.08117888, 0.07309402, 0.06548635,\n",
       "        0.05825963, 0.05132793, 0.04460346, 0.03799428, 0.03139407,\n",
       "        0.02465478, 0.01755681, 0.00968727, 0.        ]),\n",
       " array([1.13594157, 0.71925431, 0.53649463, 0.42940995, 0.3576258 ,\n",
       "        0.30552026, 0.26563589, 0.23391647, 0.20794877, 0.18619724,\n",
       "        0.1676333 , 0.15154004, 0.13740054, 0.12483123, 0.1135411 ,\n",
       "        0.10330121, 0.09393204, 0.08528857, 0.07724699, 0.06970536,\n",
       "        0.06257304, 0.05576799, 0.04921365, 0.04283173, 0.03653733,\n",
       "        0.03022742, 0.02376663, 0.01694305, 0.00935888, 0.        ]),\n",
       " array([1.14796658, 0.7279235 , 0.54366603, 0.43569344, 0.36331215,\n",
       "        0.31077548, 0.2705663 , 0.23859501, 0.21242789, 0.19051682,\n",
       "        0.1718255 , 0.1556324 , 0.14141533, 0.12878822, 0.11745808,\n",
       "        0.10719539, 0.09782059, 0.08918702, 0.08117412, 0.07368059,\n",
       "        0.06661773, 0.05990824, 0.05348237, 0.0472677 , 0.0411951 ,\n",
       "        0.03518596, 0.0291444 , 0.02294105, 0.01637185, 0.00905123,\n",
       "        0.        ]),\n",
       " array([1.15960763, 0.73631652, 0.5506076 , 0.44177358, 0.36881212,\n",
       "        0.31585588, 0.27532937, 0.24311077, 0.21674817, 0.1946803 ,\n",
       "        0.17586296, 0.15956909, 0.14527238, 0.13258469, 0.1212096 ,\n",
       "        0.1109188 , 0.10153127, 0.09289812, 0.08490235, 0.07744262,\n",
       "        0.07043112, 0.06379392, 0.05746428, 0.05137708, 0.04547077,\n",
       "        0.03967972, 0.03393148, 0.02813744, 0.02217148, 0.0158378 ,\n",
       "        0.00876438, 0.        ])]"
      ]
     },
     "execution_count": 97,
     "metadata": {},
     "output_type": "execute_result"
    }
   ],
   "source": [
    "gi_32_horizon"
   ]
  },
  {
   "cell_type": "code",
   "execution_count": 1,
   "metadata": {},
   "outputs": [],
   "source": [
    "gittins_steps32_runs1000000 = MultiArmedBandits(gittins = gi_32_horizon, num_steps = 32, num_runs = 1000000).simulate()\n",
    "thompson_steps32_runs1000000 = MultiArmedBandits(thompson = True, num_steps = 32, num_runs = 1000000).simulate()\n"
   ]
  },
  {
   "cell_type": "code",
   "execution_count": 195,
   "metadata": {},
   "outputs": [
    {
     "name": "stdout",
     "output_type": "stream",
     "text": [
      "Gittins Index mean: 1.020111980366684\n",
      "Gittins Index std: 0.0006415221708313003\n",
      "Thompson Sampling mean: 0.7691286838148467\n",
      "Thompson Sampling std: 0.0006210414461636757\n"
     ]
    }
   ],
   "source": [
    "print(\"Gittins Index mean: \" + str(np.mean(gittins_steps32_runs1000000[2])))\n",
    "print(\"Gittins Index std: \" + str(np.std(gittins_steps32_runs1000000[2])/np.sqrt(1000000)))\n",
    "print(\"Thompson Sampling mean: \" + str(np.mean(thompson_steps32_runs1000000[2])))\n",
    "print(\"Thompson Sampling std: \" + str(np.std(thompson_steps32_runs1000000[2])/np.sqrt(1000000)))\n"
   ]
  },
  {
   "cell_type": "code",
   "execution_count": 198,
   "metadata": {},
   "outputs": [
    {
     "data": {
      "text/plain": [
       "<matplotlib.legend.Legend at 0x7ff2204f89e8>"
      ]
     },
     "execution_count": 198,
     "metadata": {},
     "output_type": "execute_result"
    },
    {
     "data": {
      "image/png": "[encoded data removed]",
      "text/plain": [
       "<Figure size 720x432 with 1 Axes>"
      ]
     },
     "metadata": {
      "needs_background": "light"
     },
     "output_type": "display_data"
    }
   ],
   "source": [
    "plt.figure(figsize=(10,6))\n",
    "plt.rc('font', size=14)\n",
    "plt.plot(list(range(1, 32 + 1)), gittins_steps32_runs1000000[0], label=\"Gittins Index\")\n",
    "plt.plot(list(range(1, 32 + 1)), thompson_steps32_runs1000000[0], label=\"Thompson Sampling\")\n",
    "plt.xlabel(\"Steps\", fontsize = 16)\n",
    "plt.ylabel(\"Average reward\", fontsize = 16)\n",
    "plt.title(\"Gittins Index vs. Thompson Sampling\", fontsize = 20)\n",
    "plt.legend()"
   ]
  },
  {
   "cell_type": "code",
   "execution_count": 199,
   "metadata": {},
   "outputs": [
    {
     "data": {
      "text/plain": [
       "<matplotlib.legend.Legend at 0x7ff2704cda58>"
      ]
     },
     "execution_count": 199,
     "metadata": {},
     "output_type": "execute_result"
    },
    {
     "data": {
      "image/png": "[encoded data removed]",
      "text/plain": [
       "<Figure size 720x432 with 1 Axes>"
      ]
     },
     "metadata": {
      "needs_background": "light"
     },
     "output_type": "display_data"
    }
   ],
   "source": [
    "plt.figure(figsize=(10,6))\n",
    "plt.rc('font', size=14)\n",
    "plt.plot(list(range(1, 32 + 1)), gittins_steps32_runs1000000[1], label=\"Gittins Index\")\n",
    "plt.plot(list(range(1, 32 + 1)), thompson_steps32_runs1000000[1], label=\"Thompson Sampling\")\n",
    "plt.xlabel(\"Steps\", fontsize = 16)\n",
    "plt.ylabel(\"\\% Optimal action\", fontsize = 16)\n",
    "plt.title(\"Gittins Index vs. Thompson Sampling\", fontsize = 20)\n",
    "plt.legend()"
   ]
  },
  {
   "cell_type": "code",
   "execution_count": null,
   "metadata": {},
   "outputs": [],
   "source": []
  }
 ],
 "metadata": {
  "kernelspec": {
   "display_name": "Python 3",
   "language": "python",
   "name": "python3"
  },
  "language_info": {
   "codemirror_mode": {
    "name": "ipython",
    "version": 3
   },
   "file_extension": ".py",
   "mimetype": "text/x-python",
   "name": "python",
   "nbconvert_exporter": "python",
   "pygments_lexer": "ipython3",
   "version": "3.7.3"
  }
 },
 "nbformat": 4,
 "nbformat_minor": 2
}
